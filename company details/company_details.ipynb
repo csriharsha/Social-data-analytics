{
 "cells": [
  {
   "cell_type": "code",
   "execution_count": 1,
   "metadata": {},
   "outputs": [],
   "source": [
    "import csv\n",
    "from parsel.selector import Selector\n",
    "from time import sleep\n",
    "\n",
    "from selenium import webdriver\n",
    "from selenium.webdriver.common.keys import Keys"
   ]
  },
  {
   "cell_type": "code",
   "execution_count": 2,
   "metadata": {},
   "outputs": [],
   "source": [
    "import pandas as pd"
   ]
  },
  {
   "cell_type": "code",
   "execution_count": 3,
   "metadata": {},
   "outputs": [
    {
     "data": {
      "text/plain": [
       "86"
      ]
     },
     "execution_count": 3,
     "metadata": {},
     "output_type": "execute_result"
    }
   ],
   "source": [
    "file = open('company_details.csv', 'w+', encoding='utf-8-sig', newline='')\n",
    "writer = csv.writer(file)\n",
    "writer.writerow(['Name', 'Type', 'Industry', 'Founded', 'Founders', 'HQ', 'Area served', 'Products/Services', 'Revenue(US$)', 'No: of employees'])"
   ]
  },
  {
   "cell_type": "code",
   "execution_count": 4,
   "metadata": {},
   "outputs": [],
   "source": [
    "driver = webdriver.Firefox()"
   ]
  },
  {
   "cell_type": "code",
   "execution_count": 5,
   "metadata": {},
   "outputs": [],
   "source": [
    "items = ['Boeing', 'Costco', 'Starbucks', 'Paccar', 'Wells Fargo', 'Zones LLC']"
   ]
  },
  {
   "cell_type": "code",
   "execution_count": 6,
   "metadata": {},
   "outputs": [],
   "source": [
    "check_list = ['Type', 'Industry', 'Founded', 'Founders', 'Headquarters', 'Area served', 'Products', 'Services', 'Revenue', 'Number of employees']"
   ]
  },
  {
   "cell_type": "code",
   "execution_count": 7,
   "metadata": {},
   "outputs": [],
   "source": [
    "check_head = check_list = [['Type'], ['Industry'], ['Founded'], ['Founders', 'Founder'], ['Headquarters'], ['Area served'], ['Products', 'Services'], ['Revenue'], ['Number of employees']]"
   ]
  },
  {
   "cell_type": "code",
   "execution_count": 8,
   "metadata": {},
   "outputs": [],
   "source": [
    "check_sub_list1 = ['Type', 'Industry']\n",
    "check_sub_list2 = ['Founded', 'Area served', 'Revenue', 'Number of employees']\n",
    "check_sub_list3 = ['Founders']\n",
    "check_sub_list4 = ['Headquarters']\n",
    "check_sub_list5 = ['Products', 'Services']"
   ]
  },
  {
   "cell_type": "code",
   "execution_count": 10,
   "metadata": {},
   "outputs": [
    {
     "name": "stdout",
     "output_type": "stream",
     "text": [
      "getting information from Boeing\n",
      "parsed information from Boeing\n",
      "getting information from Costco\n",
      "parsed information from Costco\n",
      "getting information from Starbucks\n",
      "parsed information from Starbucks\n",
      "getting information from Paccar\n",
      "parsed information from Paccar\n",
      "getting information from Wells Fargo\n",
      "parsed information from Wells Fargo\n",
      "getting information from Zones LLC\n",
      "Information from Zones LLC is not available on wikipedia\n"
     ]
    }
   ],
   "source": [
    "for item in items:\n",
    "    \n",
    "    driver.get('https://en.wikipedia.org/wiki/'+item)\n",
    "    sleep(2.5)\n",
    "    \n",
    "    print('getting information from '+item+'............')\n",
    "    \n",
    "    sel = Selector(text = driver.page_source)\n",
    "    \n",
    "    check_content = info = sel.xpath('//*[@id = \"mw-content-text\"]/div/table/tbody/tr/td/b/text()').extract_first()\n",
    "    if(check_content == 'Wikipedia does not have an article with this exact name.'):\n",
    "        print('Information from {} is not available on wikipedia'.format(item))\n",
    "        continue\n",
    "    \n",
    "    info = sel.xpath('//*[@class = \"infobox vcard\"]')\n",
    "    name = info.xpath('//*[@class = \"fn org\"]/text()').extract_first()\n",
    "    info_list = [name]\n",
    "    \n",
    "    main_cnt = info.xpath('//tbody').extract_first().count('<tr>')\n",
    "    \n",
    "    idx = 0\n",
    "    \n",
    "    for i in range(1, main_cnt+1):\n",
    "        \n",
    "        \n",
    "        basic = info.xpath('//tbody/tr[{}]'.format(i))\n",
    "        \n",
    "        heading = basic.xpath('th/a/text()').extract_first()\n",
    "        if(heading not in check_head[idx]):\n",
    "            heading = basic.xpath('th/text()').extract_first()\n",
    "        if(heading not in check_head[idx]):\n",
    "            heading = basic.xpath('th/div/a/text()').extract_first()\n",
    "        if(heading not in check_head[idx]):\n",
    "            heading = basic.xpath('th/div/text()').extract_first()\n",
    "        if(heading not in check_head[idx]):\n",
    "            continue\n",
    "            \n",
    "        if(heading in check_head[idx]):\n",
    "            if(idx <len(check_head)-1):\n",
    "                idx+=1\n",
    "            \n",
    "#         print(heading)\n",
    "    \n",
    "        \n",
    "        if(heading in check_sub_list1 or heading == 'Founder'):\n",
    "            info_list.append(basic.xpath('td/a/text()').extract_first())\n",
    "#             print(info_list, end=' ')\n",
    "#             print(i)\n",
    "            \n",
    "        elif(heading in check_sub_list2):\n",
    "            temp = basic.xpath('td/text()').extract_first()\n",
    "            if(heading == 'Revenue'):\n",
    "                temp = basic.xpath('td/text()')[1].extract()\n",
    "            info_list.append(temp)\n",
    "#             print(info_list, end=' ')\n",
    "#             print(i)\n",
    "            \n",
    "        elif(heading in check_sub_list3):\n",
    "            cnt = basic.xpath('td/div/ul').extract_first().count('<li>')\n",
    "            temp = 'td/div/ul/'\n",
    "            founders = ''\n",
    "            for i in range(1, cnt+1):\n",
    "                founders+= basic.xpath(temp+'li[{}]/a/text()'.format(i)).extract_first()+', '\n",
    "            founders = founders[:-2]\n",
    "            info_list.append(founders)\n",
    "#             print(info_list, end=' ')\n",
    "#             print(i)\n",
    "        \n",
    "        elif(heading in check_sub_list4):\n",
    "            area = basic.xpath('td/text()').extract_first()\n",
    "            city = basic.xpath('td/div/text()').extract_first()\n",
    "            location = area + city\n",
    "            info_list.append(location)\n",
    "#             print(info_list, end=' ')\n",
    "#             print(i)\n",
    "            \n",
    "        elif(heading in check_sub_list5):\n",
    "            try:\n",
    "                cnt = basic.xpath('td/div/ul').extract_first().count('<li>')\n",
    "            except AttributeError:\n",
    "                cnt = 100\n",
    "            temp = 'td/div/ul/'\n",
    "            products = ''\n",
    "            \n",
    "            if(cnt > 20):\n",
    "                cnt = basic.xpath('td').extract_first().count('</a>')\n",
    "                temp = 'td/'\n",
    "                for i in range(1, cnt+1):\n",
    "                    flag = basic.xpath(temp+'a[{}]/text()'.format(i)).extract_first()\n",
    "                    if(flag == None):\n",
    "                        flag = basic.xpath(temp+'a[{}]/text()'.format(i)).extract_first()\n",
    "                    products+= flag+', '\n",
    "                products = products[:-2]\n",
    "                info_list.append(products)\n",
    "            \n",
    "            \n",
    "            else:\n",
    "                for i in range(1, cnt+1):\n",
    "                    flag = basic.xpath(temp+'li[{}]/text()'.format(i)).extract_first()\n",
    "                    if(flag == None):\n",
    "                        flag = basic.xpath(temp+'li[{}]/a/text()'.format(i)).extract_first()\n",
    "                    products+= flag+', '\n",
    "                products = products[:-2]\n",
    "                info_list.append(products)\n",
    "#             print(info_list, end=' ')\n",
    "#             print(i)\n",
    "            \n",
    "        else:\n",
    "            pass\n",
    "            \n",
    "    \n",
    "    print('parsed information from '+ item)\n",
    "    print('')\n",
    "    sleep(2)\n",
    "    writer.writerow(info_list)\n"
   ]
  },
  {
   "cell_type": "code",
   "execution_count": 11,
   "metadata": {},
   "outputs": [],
   "source": [
    "driver.quit()"
   ]
  },
  {
   "cell_type": "code",
   "execution_count": 12,
   "metadata": {},
   "outputs": [],
   "source": [
    "file.close()"
   ]
  },
  {
   "cell_type": "code",
   "execution_count": 13,
   "metadata": {},
   "outputs": [],
   "source": [
    "df = pd.read_csv('company_details.csv')"
   ]
  },
  {
   "cell_type": "code",
   "execution_count": 14,
   "metadata": {},
   "outputs": [
    {
     "data": {
      "text/html": [
       "<div>\n",
       "<style scoped>\n",
       "    .dataframe tbody tr th:only-of-type {\n",
       "        vertical-align: middle;\n",
       "    }\n",
       "\n",
       "    .dataframe tbody tr th {\n",
       "        vertical-align: top;\n",
       "    }\n",
       "\n",
       "    .dataframe thead th {\n",
       "        text-align: right;\n",
       "    }\n",
       "</style>\n",
       "<table border=\"1\" class=\"dataframe\">\n",
       "  <thead>\n",
       "    <tr style=\"text-align: right;\">\n",
       "      <th></th>\n",
       "      <th>Name</th>\n",
       "      <th>Type</th>\n",
       "      <th>Industry</th>\n",
       "      <th>Founded</th>\n",
       "      <th>Founders</th>\n",
       "      <th>HQ</th>\n",
       "      <th>Area served</th>\n",
       "      <th>Products</th>\n",
       "      <th>Revenue</th>\n",
       "      <th>No: of employees</th>\n",
       "    </tr>\n",
       "  </thead>\n",
       "  <tbody>\n",
       "    <tr>\n",
       "      <th>0</th>\n",
       "      <td>The Boeing Company</td>\n",
       "      <td>Public</td>\n",
       "      <td>South Carolina</td>\n",
       "      <td>July 15, 1916</td>\n",
       "      <td>William E. Boeing</td>\n",
       "      <td>, ,</td>\n",
       "      <td>Worldwide</td>\n",
       "      <td>Commercial aircraft, Military aircraft, Satell...</td>\n",
       "      <td>2019\\n</td>\n",
       "      <td>161,133 (January 1, 2020)</td>\n",
       "    </tr>\n",
       "    <tr>\n",
       "      <th>1</th>\n",
       "      <td>Costco Wholesale Corporation</td>\n",
       "      <td>Public</td>\n",
       "      <td>Retail</td>\n",
       "      <td>July 12, 1976</td>\n",
       "      <td>Amazon Go, Whole Foods</td>\n",
       "      <td>, United States</td>\n",
       "      <td>United States, Canada, United Kingdom, Austral...</td>\n",
       "      <td>Merchandise, Cash &amp; Carry, Warehouse club</td>\n",
       "      <td>(2019)</td>\n",
       "      <td>254,000</td>\n",
       "    </tr>\n",
       "    <tr>\n",
       "      <th>2</th>\n",
       "      <td>Starbucks Corporation</td>\n",
       "      <td>Public</td>\n",
       "      <td>Coffee shop</td>\n",
       "      <td>March 31, 1971</td>\n",
       "      <td>Jerry Baldwin, Zev Siegl, Gordon Bowker</td>\n",
       "      <td>2401 Utah Avenue South, Seattle, Washington</td>\n",
       "      <td>Worldwide</td>\n",
       "      <td>Coffee beverages, smoothies, tea, baked goods,...</td>\n",
       "      <td>24.71 billion (2018)</td>\n",
       "      <td>291,000 (2018)</td>\n",
       "    </tr>\n",
       "    <tr>\n",
       "      <th>3</th>\n",
       "      <td>PACCAR Inc</td>\n",
       "      <td>Public</td>\n",
       "      <td>Automotive</td>\n",
       "      <td>1905</td>\n",
       "      <td>NaN</td>\n",
       "      <td>PACCAR Building, \\n</td>\n",
       "      <td>Worldwide (Except Iran, Cuba, Syria, Sudan, an...</td>\n",
       "      <td>Commercial vehicles,  , Industrial winches</td>\n",
       "      <td></td>\n",
       "      <td>~27,000</td>\n",
       "    </tr>\n",
       "    <tr>\n",
       "      <th>4</th>\n",
       "      <td>Wells Fargo &amp; Company</td>\n",
       "      <td>NaN</td>\n",
       "      <td>Public</td>\n",
       "      <td>18 March 1852</td>\n",
       "      <td>Henry Wells</td>\n",
       "      <td>, \\n</td>\n",
       "      <td>NaN</td>\n",
       "      <td>Asset management, Brokerage services, Banking,...</td>\n",
       "      <td>85.063 billion</td>\n",
       "      <td>258,700 (2019)</td>\n",
       "    </tr>\n",
       "  </tbody>\n",
       "</table>\n",
       "</div>"
      ],
      "text/plain": [
       "                           Name    Type        Industry         Founded  \\\n",
       "0            The Boeing Company  Public  South Carolina   July 15, 1916   \n",
       "1  Costco Wholesale Corporation  Public          Retail   July 12, 1976   \n",
       "2         Starbucks Corporation  Public     Coffee shop  March 31, 1971   \n",
       "3                    PACCAR Inc  Public      Automotive            1905   \n",
       "4         Wells Fargo & Company     NaN          Public  18 March 1852    \n",
       "\n",
       "                                  Founders  \\\n",
       "0                        William E. Boeing   \n",
       "1                   Amazon Go, Whole Foods   \n",
       "2  Jerry Baldwin, Zev Siegl, Gordon Bowker   \n",
       "3                                      NaN   \n",
       "4                              Henry Wells   \n",
       "\n",
       "                                            HQ  \\\n",
       "0                                         , ,    \n",
       "1                              , United States   \n",
       "2  2401 Utah Avenue South, Seattle, Washington   \n",
       "3                          PACCAR Building, \\n   \n",
       "4                                         , \\n   \n",
       "\n",
       "                                         Area served  \\\n",
       "0                                          Worldwide   \n",
       "1  United States, Canada, United Kingdom, Austral...   \n",
       "2                                          Worldwide   \n",
       "3  Worldwide (Except Iran, Cuba, Syria, Sudan, an...   \n",
       "4                                                NaN   \n",
       "\n",
       "                                            Products               Revenue  \\\n",
       "0  Commercial aircraft, Military aircraft, Satell...                2019\\n   \n",
       "1          Merchandise, Cash & Carry, Warehouse club                (2019)   \n",
       "2  Coffee beverages, smoothies, tea, baked goods,...  24.71 billion (2018)   \n",
       "3         Commercial vehicles,  , Industrial winches                         \n",
       "4  Asset management, Brokerage services, Banking,...       85.063 billion    \n",
       "\n",
       "            No: of employees  \n",
       "0  161,133 (January 1, 2020)  \n",
       "1                    254,000  \n",
       "2             291,000 (2018)  \n",
       "3                   ~27,000   \n",
       "4             258,700 (2019)  "
      ]
     },
     "execution_count": 14,
     "metadata": {},
     "output_type": "execute_result"
    }
   ],
   "source": [
    "df.head()"
   ]
  }
 ],
 "metadata": {
  "kernelspec": {
   "display_name": "Python 3",
   "language": "python",
   "name": "python3"
  },
  "language_info": {
   "codemirror_mode": {
    "name": "ipython",
    "version": 3
   },
   "file_extension": ".py",
   "mimetype": "text/x-python",
   "name": "python",
   "nbconvert_exporter": "python",
   "pygments_lexer": "ipython3",
   "version": "3.7.6"
  }
 },
 "nbformat": 4,
 "nbformat_minor": 4
}
