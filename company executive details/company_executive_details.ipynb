{
 "cells": [
  {
   "cell_type": "code",
   "execution_count": null,
   "metadata": {},
   "outputs": [],
   "source": [
    "import csv\n",
    "from parsel.selector import Selector\n",
    "from time import sleep\n",
    "\n",
    "from selenium import webdriver\n",
    "from selenium.webdriver.common.keys import Keys"
   ]
  },
  {
   "cell_type": "code",
   "execution_count": null,
   "metadata": {},
   "outputs": [],
   "source": [
    "import pandas as pd"
   ]
  },
  {
   "cell_type": "code",
   "execution_count": null,
   "metadata": {},
   "outputs": [],
   "source": [
    "file = open('company_employee_details.csv', 'w+', encoding='utf-8-sig', newline='')\n",
    "writer = csv.writer(file)\n",
    "writer.writerow(['Name', 'Position', 'Company', 'Education', 'Location', 'URL'])"
   ]
  },
  {
   "cell_type": "code",
   "execution_count": null,
   "metadata": {},
   "outputs": [],
   "source": [
    "driver = webdriver.Firefox()"
   ]
  },
  {
   "cell_type": "code",
   "execution_count": null,
   "metadata": {},
   "outputs": [],
   "source": [
    "driver.get('https://linkedin.com/')"
   ]
  },
  {
   "cell_type": "code",
   "execution_count": null,
   "metadata": {},
   "outputs": [],
   "source": [
    "try:\n",
    "    sign_in_button = driver.find_element_by_class_name('nav__button-secondary')\n",
    "    sign_in_button.click() if sign_in_button else None\n",
    "    sleep(2)\n",
    "except:\n",
    "    pass\n",
    "\n",
    "username = driver.find_element_by_name('session_key')\n",
    "username.send_keys('robotnoa7@gmail.com')\n",
    "sleep(3)\n",
    "\n",
    "password = driver.find_element_by_name('session_password')\n",
    "password.send_keys('mygalaxys9plus')\n",
    "sleep(1)\n",
    "\n",
    "try:\n",
    "    sign_in_button = driver.find_element_by_class_name('sign-in-form__submit-button')\n",
    "    sign_in_button.click() if sign_in_button else None\n",
    "    sleep(0.5)\n",
    "except:\n",
    "    sign_in_button = driver.find_element_by_class_name('login__form_action_container')\n",
    "    sign_in_button.click() if sign_in_button else None\n",
    "    sleep(0.5)"
   ]
  },
  {
   "cell_type": "code",
   "execution_count": null,
   "metadata": {},
   "outputs": [],
   "source": [
    "driver.get('https://www.google.com/')"
   ]
  },
  {
   "cell_type": "code",
   "execution_count": null,
   "metadata": {},
   "outputs": [],
   "source": [
    "items = ['Boeing', 'Costco', 'Starbucks', 'Paccar', 'Wells Fargo', 'Zones LLC']"
   ]
  },
  {
   "cell_type": "code",
   "execution_count": null,
   "metadata": {},
   "outputs": [],
   "source": [
    "for item in items:\n",
    "    \n",
    "    driver.get('https://www.google.com/')\n",
    "    \n",
    "    search_query = driver.find_element_by_name('q')\n",
    "    search_query.send_keys('site:linkedin.com/in AND '+item)\n",
    "    search_query.send_keys(Keys.RETURN)\n",
    "    sleep(2)\n",
    "    \n",
    "    urls = driver.find_elements_by_xpath('//*[@class = \"r\"]/a[@href]')\n",
    "    urls = [url.get_attribute('href') for url in urls]\n",
    "    sleep(2.5)\n",
    "    \n",
    "    print('getting information from '+item+'............')\n",
    "    \n",
    "    for url in urls:\n",
    "        driver.get(url)\n",
    "        sleep(2)\n",
    "\n",
    "        sel = Selector(text = driver.page_source)\n",
    "        name = sel.xpath('//*[@class= \"inline t-24 t-black t-normal break-words\"]/text()').extract_first().split()\n",
    "        name = ' '.join(name)\n",
    "        \n",
    "        sleep(2)\n",
    "\n",
    "        try:\n",
    "            experience = sel.xpath('//*[@class = \"pv-profile-section__section-info section-info pv-profile-section__section-info--has-more\"]')[0]\n",
    "        except IndexError:\n",
    "            try:\n",
    "                experience = sel.xpath('//*[@class = \"pv-profile-section__section-info section-info pv-profile-section__section-info--has-no-more\"]')[0]\n",
    "            except IndexError:\n",
    "                experience = sel.xpath('//*[@class = \"pv-profile-section__section-info section-info pv-profile-section__section-info--has-no-more\"]')\n",
    "\n",
    "        position = experience.xpath('//*[@class= \"t-16 t-black t-bold\"]/text()').extract_first()\n",
    "        company = experience.xpath('//*[@class= \"pv-entity__secondary-title t-14 t-black t-normal\"]/text()').extract_first()\n",
    "        \n",
    "        position = ' '.join(position.split()) if position else None\n",
    "        company = ' '.join(company.split()) if company else None\n",
    "        \n",
    "        if(company == None or position == None):\n",
    "            company = experience.xpath('//*[@class = \"t-16 t-black t-bold\"]//span[2]/text()').extract_first()\n",
    "            position = experience.xpath('//*[@class= \"t-14 t-black t-bold\"]//span[2]/text()').extract_first()\n",
    "    \n",
    "        if(company != None):\n",
    "            flag = False\n",
    "            for i in item.split():\n",
    "                if(company.find(i) != -1):\n",
    "                    flag = True\n",
    "                    break\n",
    "            if(flag==False):\n",
    "                continue\n",
    "            \n",
    "        try:\n",
    "            learnings = sel.xpath('//*[@class = \"pv-profile-section__section-info section-info pv-profile-section__section-info--has-no-more\"]/li')[-1]\n",
    "        except IndexError:\n",
    "            try:\n",
    "                learnings = sel.xpath('//*[@class = \"pv-profile-section__section-info section-info pv-profile-section__section-info--has-more\"]/li')[-1]\n",
    "            except:\n",
    "                learnings = sel.xpath('//*[@class = \"pv-profile-section__section-info section-info pv-profile-section__section-info--has-more\"]/li')\n",
    "\n",
    "        school = learnings.xpath('//*[@class = \"pv-entity__school-name t-16 t-black t-bold\"]/text()').extract_first()\n",
    "        school = ' '.join(school.split()) if school else None\n",
    "\n",
    "        des = learnings.xpath('//*[@class = \"pv-entity__comma-item\"]/text()').extract_first()\n",
    "        des = ' '.join(des.split()) if des else None\n",
    "\n",
    "        degree = school+\": \"+des if(type(school) == type(des) and des != None) else None\n",
    "\n",
    "        location = sel.xpath('//*[@class= \"t-16 t-black t-normal inline-block\"]/text()').extract_first().split()\n",
    "        location = ' '.join(location)\n",
    "\n",
    "        url = driver.current_url\n",
    "\n",
    "        writer.writerow([name, position, company, degree, location, url])\n",
    "\n",
    "    print('parsed information from '+ item)\n",
    "    print('')"
   ]
  },
  {
   "cell_type": "code",
   "execution_count": null,
   "metadata": {},
   "outputs": [],
   "source": [
    "driver.quit()"
   ]
  },
  {
   "cell_type": "code",
   "execution_count": null,
   "metadata": {},
   "outputs": [],
   "source": [
    "file.close()"
   ]
  },
  {
   "cell_type": "code",
   "execution_count": null,
   "metadata": {},
   "outputs": [],
   "source": [
    "df = pd.read_csv('company_employee_details.csv')"
   ]
  },
  {
   "cell_type": "code",
   "execution_count": null,
   "metadata": {},
   "outputs": [],
   "source": [
    "df.head()"
   ]
  }
 ],
 "metadata": {
  "kernelspec": {
   "display_name": "Python 3",
   "language": "python",
   "name": "python3"
  },
  "language_info": {
   "codemirror_mode": {
    "name": "ipython",
    "version": 3
   },
   "file_extension": ".py",
   "mimetype": "text/x-python",
   "name": "python",
   "nbconvert_exporter": "python",
   "pygments_lexer": "ipython3",
   "version": "3.8.3"
  }
 },
 "nbformat": 4,
 "nbformat_minor": 4
}
